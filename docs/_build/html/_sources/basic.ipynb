{
 "cells": [
  {
   "cell_type": "markdown",
   "id": "01d6bbb4",
   "metadata": {},
   "source": [
    "# An example Jupyter Notebook\n",
    "\n",
    "This notebook is a demonstration of directly-parsing Jupyter Notebooks into\n",
    "Sphinx using the MyST parser.[^download]\n",
    "\n",
    "[^download]: This notebook can be downloaded as\n",
    "            **{nb-download}`basic.ipynb`** and {download}`basic.md`\n",
    "\n",
    "## Markdown\n",
    "\n",
    "\n",
    "### Configuration\n",
    "\n",
    "The MyST-NB parser derives from [the base MyST-Parser](myst:intro/get-started), and so all the same configuration options are available.\n",
    "See the [MyST configuration options](myst:sphinx/config-options) for the full set of options, and [MyST syntax guide](myst:example_syntax) for all the syntax options.\n",
    "\n",
    "To build documentation from this notebook, the following options are set:\n",
    "\n",
    "```python\n",
    "myst_enable_extensions = [\n",
    "    \"amsmath\",\n",
    "    \"colon_fence\",\n",
    "    \"deflist\",\n",
    "    \"dollarmath\",\n",
    "    \"html_image\",\n",
    "]\n",
    "myst_url_schemes = (\"http\", \"https\", \"mailto\")\n",
    "```\n",
    "\n",
    "### Syntax\n",
    "\n",
    "As you can see, markdown is parsed as expected. Embedding images should work as expected.\n",
    "For example, here's the MyST-NB logo:\n",
    "\n",
    "```md\n",
    "![myst-nb logo](../_static/logo-wide.svg)\n",
    "```\n",
    "\n",
    "![myst-nb logo](../_static/logo-wide.svg)\n",
    "\n",
    "By adding `\"html_image\"` to the `myst_enable_extensions` list in the sphinx configuration ([see here](myst:syntax/images)), you can even add HTML `img` tags with attributes:\n",
    "\n",
    "```html\n",
    "<img src=\"../_static/logo-wide.svg\" alt=\"logo\" width=\"200px\" class=\"shadow mb-2\">\n",
    "```\n",
    "\n",
    "<img src=\"../_static/logo-wide.svg\" alt=\"logo\" width=\"200px\"  class=\"shadow mb-2\">\n",
    "\n",
    "Because MyST-NB is using the MyST-markdown parser, you can include rich markdown with Sphinx in your notebook.\n",
    "For example, here's a note admonition block:\n",
    "\n",
    ":::::{note}\n",
    "**Wow**, a note!\n",
    "It was generated with this code ([as explained here](myst:syntax/admonitions)):\n",
    "\n",
    "````md\n",
    ":::{note}\n",
    "**Wow**, a note!\n",
    ":::\n",
    "````\n",
    "\n",
    ":::::\n",
    "\n",
    "If you wish to use \"bare\" LaTeX equations, then you should add `\"amsmath\"` to the `myst_enable_extensions` list in the sphinx configuration.\n",
    "This is [explained here](myst:syntax/amsmath), and works as such:\n",
    "\n",
    "```latex\n",
    "\\begin{equation}\n",
    "\\frac {\\partial u}{\\partial x} + \\frac{\\partial v}{\\partial y} = - \\, \\frac{\\partial w}{\\partial z}\n",
    "\\end{equation}\n",
    "\n",
    "\\begin{align*}\n",
    "2x - 5y &=  8 \\\\\n",
    "3x + 9y &=  -12\n",
    "\\end{align*}\n",
    "```\n",
    "\n",
    "\\begin{equation}\n",
    "\\frac {\\partial u}{\\partial x} + \\frac{\\partial v}{\\partial y} = - \\, \\frac{\\partial w}{\\partial z}\n",
    "\\end{equation}\n",
    "\n",
    "\\begin{align*}\n",
    "2x - 5y &=  8 \\\\\n",
    "3x + 9y &=  -12\n",
    "\\end{align*}\n",
    "\n",
    "Also you can use features like **equation numbering** and referencing in the notebooks:\n",
    "\n",
    "```md\n",
    "$$e^{i\\pi} + 1 = 0$$ (euler)\n",
    "```\n",
    "\n",
    "$$e^{i\\pi} + 1 = 0$$ (euler)\n",
    "\n",
    "Euler's identity, equation {math:numref}`euler`, was elected one of the\n",
    "most beautiful mathematical formulas.\n",
    "\n",
    "You can see the syntax used for this example [here in the MyST documentation](myst:syntax/math).\n",
    "\n",
    "## Code cells and outputs\n",
    "\n",
    "You can run cells, and the cell outputs will be captured and inserted into\n",
    "the resulting Sphinx site.\n",
    "\n",
    "### `__repr__` and HTML outputs\n",
    "\n",
    "For example, here's some simple Python:"
   ]
  },
  {
   "cell_type": "code",
   "execution_count": 1,
   "id": "7a0e67e4",
   "metadata": {},
   "outputs": [
    {
     "data": {
      "text/plain": [
       "array([[ 3.4854173 , 20.58535715, 32.06073558, 34.83943561, 57.59663388,\n",
       "        46.26512888, 20.52056667,  7.7144703 , 10.7031177 , 44.81919819],\n",
       "       [19.59976293, 29.35062355, 16.8364137 , 84.86776424, 72.52229288,\n",
       "        61.29377069, 99.5280793 , 63.55691448, 58.31259517,  6.9467056 ],\n",
       "       [69.42040971, 63.82277829, 75.51906141, 59.58795734, 41.42206518,\n",
       "        97.67231893, 80.46974648, 64.93658754, 20.93608046, 93.02048877]])"
      ]
     },
     "execution_count": 1,
     "metadata": {},
     "output_type": "execute_result"
    }
   ],
   "source": [
    "import matplotlib.pyplot as plt\n",
    "import numpy as np\n",
    "data = np.random.rand(3, 100) * 100\n",
    "data[:, :10]"
   ]
  },
  {
   "cell_type": "markdown",
   "id": "6cb5d26b",
   "metadata": {},
   "source": [
    "This will also work with HTML outputs"
   ]
  },
  {
   "cell_type": "code",
   "execution_count": 2,
   "id": "45a2759a",
   "metadata": {},
   "outputs": [
    {
     "data": {
      "text/html": [
       "<div>\n",
       "<style scoped>\n",
       "    .dataframe tbody tr th:only-of-type {\n",
       "        vertical-align: middle;\n",
       "    }\n",
       "\n",
       "    .dataframe tbody tr th {\n",
       "        vertical-align: top;\n",
       "    }\n",
       "\n",
       "    .dataframe thead th {\n",
       "        text-align: right;\n",
       "    }\n",
       "</style>\n",
       "<table border=\"1\" class=\"dataframe\">\n",
       "  <thead>\n",
       "    <tr style=\"text-align: right;\">\n",
       "      <th></th>\n",
       "      <th>a</th>\n",
       "      <th>b</th>\n",
       "      <th>c</th>\n",
       "    </tr>\n",
       "  </thead>\n",
       "  <tbody>\n",
       "    <tr>\n",
       "      <th>0</th>\n",
       "      <td>3.485417</td>\n",
       "      <td>19.599763</td>\n",
       "      <td>69.420410</td>\n",
       "    </tr>\n",
       "    <tr>\n",
       "      <th>1</th>\n",
       "      <td>20.585357</td>\n",
       "      <td>29.350624</td>\n",
       "      <td>63.822778</td>\n",
       "    </tr>\n",
       "    <tr>\n",
       "      <th>2</th>\n",
       "      <td>32.060736</td>\n",
       "      <td>16.836414</td>\n",
       "      <td>75.519061</td>\n",
       "    </tr>\n",
       "    <tr>\n",
       "      <th>3</th>\n",
       "      <td>34.839436</td>\n",
       "      <td>84.867764</td>\n",
       "      <td>59.587957</td>\n",
       "    </tr>\n",
       "    <tr>\n",
       "      <th>4</th>\n",
       "      <td>57.596634</td>\n",
       "      <td>72.522293</td>\n",
       "      <td>41.422065</td>\n",
       "    </tr>\n",
       "  </tbody>\n",
       "</table>\n",
       "</div>"
      ],
      "text/plain": [
       "           a          b          c\n",
       "0   3.485417  19.599763  69.420410\n",
       "1  20.585357  29.350624  63.822778\n",
       "2  32.060736  16.836414  75.519061\n",
       "3  34.839436  84.867764  59.587957\n",
       "4  57.596634  72.522293  41.422065"
      ]
     },
     "execution_count": 2,
     "metadata": {},
     "output_type": "execute_result"
    }
   ],
   "source": [
    "import pandas as pd\n",
    "df = pd.DataFrame(data.T, columns=['a', 'b', 'c'])\n",
    "df.head()"
   ]
  },
  {
   "cell_type": "markdown",
   "id": "58b3ce8f",
   "metadata": {},
   "source": [
    "as well as math outputs"
   ]
  },
  {
   "cell_type": "code",
   "execution_count": 3,
   "id": "9b3d5626",
   "metadata": {},
   "outputs": [
    {
     "data": {
      "text/latex": [
       "$\\displaystyle \\sum_{i=0}^n i^2 = \\frac{(n^2+n)(2n+1)}{6}$"
      ],
      "text/plain": [
       "<IPython.core.display.Math object>"
      ]
     },
     "execution_count": 3,
     "metadata": {},
     "output_type": "execute_result"
    }
   ],
   "source": [
    "from IPython.display import Math\n",
    "Math(r\"\\sum_{i=0}^n i^2 = \\frac{(n^2+n)(2n+1)}{6}\")"
   ]
  },
  {
   "cell_type": "markdown",
   "id": "c88fa285",
   "metadata": {},
   "source": [
    "This works for error messages as well:"
   ]
  },
  {
   "cell_type": "code",
   "execution_count": 4,
   "id": "1b858935",
   "metadata": {
    "tags": [
     "raises-exception"
    ]
   },
   "outputs": [
    {
     "name": "stdout",
     "output_type": "stream",
     "text": [
      "This will be properly printed...\n"
     ]
    },
    {
     "ename": "NameError",
     "evalue": "name 'thiswont' is not defined",
     "output_type": "error",
     "traceback": [
      "\u001b[0;31m---------------------------------------------------------------------------\u001b[0m",
      "\u001b[0;31mNameError\u001b[0m                                 Traceback (most recent call last)",
      "\u001b[0;32m<ipython-input-4-8f5b3a77886c>\u001b[0m in \u001b[0;36m<module>\u001b[0;34m\u001b[0m\n\u001b[1;32m      1\u001b[0m \u001b[0mprint\u001b[0m\u001b[0;34m(\u001b[0m\u001b[0;34m\"This will be properly printed...\"\u001b[0m\u001b[0;34m)\u001b[0m\u001b[0;34m\u001b[0m\u001b[0;34m\u001b[0m\u001b[0m\n\u001b[0;32m----> 2\u001b[0;31m \u001b[0mprint\u001b[0m\u001b[0;34m(\u001b[0m\u001b[0mthiswont\u001b[0m\u001b[0;34m)\u001b[0m\u001b[0;34m\u001b[0m\u001b[0;34m\u001b[0m\u001b[0m\n\u001b[0m",
      "\u001b[0;31mNameError\u001b[0m: name 'thiswont' is not defined"
     ]
    }
   ],
   "source": [
    "print(\"This will be properly printed...\")\n",
    "print(thiswont)"
   ]
  },
  {
   "cell_type": "markdown",
   "id": "6512ef16",
   "metadata": {},
   "source": [
    "### Images\n",
    "\n",
    "Images that are generated from your code (e.g., with Matplotlib) will also\n",
    "be embedded."
   ]
  },
  {
   "cell_type": "code",
   "execution_count": 5,
   "id": "caa0c9e3",
   "metadata": {},
   "outputs": [
    {
     "data": {
      "text/plain": [
       "<matplotlib.collections.PathCollection at 0x7f0fa675c390>"
      ]
     },
     "execution_count": 5,
     "metadata": {},
     "output_type": "execute_result"
    },
    {
     "data": {
      "image/png": "[encoded data removed]",
      "text/plain": [
       "<Figure size 432x288 with 1 Axes>"
      ]
     },
     "metadata": {
      "filenames": {
       "image/png": "/home/docs/checkouts/readthedocs.org/user_builds/myst-nb/checkouts/latest/docs/_build/jupyter_execute/examples/basic_9_1.png"
      },
      "needs_background": "light"
     },
     "output_type": "display_data"
    }
   ],
   "source": [
    "fig, ax = plt.subplots()\n",
    "ax.scatter(*data, c=data[2])"
   ]
  }
 ],
 "metadata": {
  "jupytext": {
   "text_representation": {
    "extension": ".md",
    "format_name": "myst",
    "format_version": "0.8",
    "jupytext_version": "1.4.1"
   }
  },
  "kernelspec": {
   "display_name": "Python 3",
   "language": "python",
   "name": "python3"
  },
  "language_info": {
   "codemirror_mode": {
    "name": "ipython",
    "version": 3
   },
   "file_extension": ".py",
   "mimetype": "text/x-python",
   "name": "python",
   "nbconvert_exporter": "python",
   "pygments_lexer": "ipython3",
   "version": "3.7.9"
  },
  "source_map": [
   12,
   122,
   127,
   131,
   135,
   139,
   142,
   146,
   151,
   158
  ]
 },
 "nbformat": 4,
 "nbformat_minor": 5
}